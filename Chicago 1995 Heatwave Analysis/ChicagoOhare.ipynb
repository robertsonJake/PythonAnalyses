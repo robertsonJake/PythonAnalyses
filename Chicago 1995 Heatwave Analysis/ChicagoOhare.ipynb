{
 "cells": [
  {
   "cell_type": "markdown",
   "metadata": {},
   "source": [
    "# We will look at the Chicago 1995 Heat Wave through observed datasets"
   ]
  },
  {
   "cell_type": "code",
   "execution_count": 33,
   "metadata": {
    "collapsed": true
   },
   "outputs": [],
   "source": [
    "import pandas as pd"
   ]
  },
  {
   "cell_type": "code",
   "execution_count": 34,
   "metadata": {
    "collapsed": true
   },
   "outputs": [],
   "source": [
    "from matplotlib import pyplot as pp\n",
    "%matplotlib inline"
   ]
  },
  {
   "cell_type": "markdown",
   "metadata": {},
   "source": [
    "### Here we import our files and look at just some of the data to see what we are working with"
   ]
  },
  {
   "cell_type": "code",
   "execution_count": 35,
   "metadata": {
    "collapsed": true
   },
   "outputs": [],
   "source": [
    "data = pd.read_csv(\"ChicagoOhare.csv\")"
   ]
  },
  {
   "cell_type": "code",
   "execution_count": 36,
   "metadata": {
    "collapsed": false
   },
   "outputs": [
    {
     "data": {
      "text/html": [
       "<div>\n",
       "<table border=\"1\" class=\"dataframe\">\n",
       "  <thead>\n",
       "    <tr style=\"text-align: right;\">\n",
       "      <th></th>\n",
       "      <th>STATION</th>\n",
       "      <th>STATION_NAME</th>\n",
       "      <th>DATE</th>\n",
       "      <th>TAVG</th>\n",
       "      <th>TMAX</th>\n",
       "      <th>TMIN</th>\n",
       "    </tr>\n",
       "  </thead>\n",
       "  <tbody>\n",
       "    <tr>\n",
       "      <th>0</th>\n",
       "      <td>GHCND:USW00094846</td>\n",
       "      <td>CHICAGO OHARE INTERNATIONAL AIRPORT IL US</td>\n",
       "      <td>19950101</td>\n",
       "      <td>-9999</td>\n",
       "      <td>27</td>\n",
       "      <td>11</td>\n",
       "    </tr>\n",
       "    <tr>\n",
       "      <th>1</th>\n",
       "      <td>GHCND:USW00094846</td>\n",
       "      <td>CHICAGO OHARE INTERNATIONAL AIRPORT IL US</td>\n",
       "      <td>19950102</td>\n",
       "      <td>-9999</td>\n",
       "      <td>21</td>\n",
       "      <td>8</td>\n",
       "    </tr>\n",
       "    <tr>\n",
       "      <th>2</th>\n",
       "      <td>GHCND:USW00094846</td>\n",
       "      <td>CHICAGO OHARE INTERNATIONAL AIRPORT IL US</td>\n",
       "      <td>19950103</td>\n",
       "      <td>-9999</td>\n",
       "      <td>18</td>\n",
       "      <td>3</td>\n",
       "    </tr>\n",
       "    <tr>\n",
       "      <th>3</th>\n",
       "      <td>GHCND:USW00094846</td>\n",
       "      <td>CHICAGO OHARE INTERNATIONAL AIRPORT IL US</td>\n",
       "      <td>19950104</td>\n",
       "      <td>-9999</td>\n",
       "      <td>7</td>\n",
       "      <td>-1</td>\n",
       "    </tr>\n",
       "    <tr>\n",
       "      <th>4</th>\n",
       "      <td>GHCND:USW00094846</td>\n",
       "      <td>CHICAGO OHARE INTERNATIONAL AIRPORT IL US</td>\n",
       "      <td>19950105</td>\n",
       "      <td>-9999</td>\n",
       "      <td>19</td>\n",
       "      <td>-1</td>\n",
       "    </tr>\n",
       "  </tbody>\n",
       "</table>\n",
       "</div>"
      ],
      "text/plain": [
       "             STATION                               STATION_NAME      DATE  \\\n",
       "0  GHCND:USW00094846  CHICAGO OHARE INTERNATIONAL AIRPORT IL US  19950101   \n",
       "1  GHCND:USW00094846  CHICAGO OHARE INTERNATIONAL AIRPORT IL US  19950102   \n",
       "2  GHCND:USW00094846  CHICAGO OHARE INTERNATIONAL AIRPORT IL US  19950103   \n",
       "3  GHCND:USW00094846  CHICAGO OHARE INTERNATIONAL AIRPORT IL US  19950104   \n",
       "4  GHCND:USW00094846  CHICAGO OHARE INTERNATIONAL AIRPORT IL US  19950105   \n",
       "\n",
       "   TAVG  TMAX  TMIN  \n",
       "0 -9999    27    11  \n",
       "1 -9999    21     8  \n",
       "2 -9999    18     3  \n",
       "3 -9999     7    -1  \n",
       "4 -9999    19    -1  "
      ]
     },
     "execution_count": 36,
     "metadata": {},
     "output_type": "execute_result"
    }
   ],
   "source": [
    "data.head()"
   ]
  },
  {
   "cell_type": "code",
   "execution_count": 37,
   "metadata": {
    "collapsed": false
   },
   "outputs": [
    {
     "data": {
      "text/plain": [
       "Index(['STATION', 'STATION_NAME', 'DATE', 'TAVG', 'TMAX', 'TMIN'], dtype='object')"
      ]
     },
     "execution_count": 37,
     "metadata": {},
     "output_type": "execute_result"
    }
   ],
   "source": [
    "data.columns"
   ]
  },
  {
   "cell_type": "code",
   "execution_count": 38,
   "metadata": {
    "collapsed": false
   },
   "outputs": [
    {
     "data": {
      "text/plain": [
       "104"
      ]
     },
     "execution_count": 38,
     "metadata": {},
     "output_type": "execute_result"
    }
   ],
   "source": [
    "data[\"TMAX\"].max()"
   ]
  },
  {
   "cell_type": "markdown",
   "metadata": {},
   "source": [
    "### Now, we will select our specific heatwave timeline from this data set.\n",
    "### We will look at July 01 to July 30th"
   ]
  },
  {
   "cell_type": "code",
   "execution_count": 39,
   "metadata": {
    "collapsed": true
   },
   "outputs": [],
   "source": [
    "heatwave = data[data[\"DATE\"] > 19950700]\n",
    "heatwave = heatwave[heatwave[\"DATE\"] < 19950730]"
   ]
  },
  {
   "cell_type": "code",
   "execution_count": 40,
   "metadata": {
    "collapsed": false
   },
   "outputs": [
    {
     "data": {
      "text/html": [
       "<div>\n",
       "<table border=\"1\" class=\"dataframe\">\n",
       "  <thead>\n",
       "    <tr style=\"text-align: right;\">\n",
       "      <th></th>\n",
       "      <th>DATE</th>\n",
       "      <th>TAVG</th>\n",
       "      <th>TMAX</th>\n",
       "      <th>TMIN</th>\n",
       "    </tr>\n",
       "  </thead>\n",
       "  <tbody>\n",
       "    <tr>\n",
       "      <th>count</th>\n",
       "      <td>2.900000e+01</td>\n",
       "      <td>29.0</td>\n",
       "      <td>29.000000</td>\n",
       "      <td>29.000000</td>\n",
       "    </tr>\n",
       "    <tr>\n",
       "      <th>mean</th>\n",
       "      <td>1.995072e+07</td>\n",
       "      <td>-9999.0</td>\n",
       "      <td>87.482759</td>\n",
       "      <td>66.827586</td>\n",
       "    </tr>\n",
       "    <tr>\n",
       "      <th>std</th>\n",
       "      <td>8.514693e+00</td>\n",
       "      <td>0.0</td>\n",
       "      <td>6.858887</td>\n",
       "      <td>7.151768</td>\n",
       "    </tr>\n",
       "    <tr>\n",
       "      <th>min</th>\n",
       "      <td>1.995070e+07</td>\n",
       "      <td>-9999.0</td>\n",
       "      <td>76.000000</td>\n",
       "      <td>50.000000</td>\n",
       "    </tr>\n",
       "    <tr>\n",
       "      <th>25%</th>\n",
       "      <td>1.995071e+07</td>\n",
       "      <td>-9999.0</td>\n",
       "      <td>84.000000</td>\n",
       "      <td>63.000000</td>\n",
       "    </tr>\n",
       "    <tr>\n",
       "      <th>50%</th>\n",
       "      <td>1.995072e+07</td>\n",
       "      <td>-9999.0</td>\n",
       "      <td>87.000000</td>\n",
       "      <td>67.000000</td>\n",
       "    </tr>\n",
       "    <tr>\n",
       "      <th>75%</th>\n",
       "      <td>1.995072e+07</td>\n",
       "      <td>-9999.0</td>\n",
       "      <td>90.000000</td>\n",
       "      <td>70.000000</td>\n",
       "    </tr>\n",
       "    <tr>\n",
       "      <th>max</th>\n",
       "      <td>1.995073e+07</td>\n",
       "      <td>-9999.0</td>\n",
       "      <td>104.000000</td>\n",
       "      <td>83.000000</td>\n",
       "    </tr>\n",
       "  </tbody>\n",
       "</table>\n",
       "</div>"
      ],
      "text/plain": [
       "               DATE    TAVG        TMAX       TMIN\n",
       "count  2.900000e+01    29.0   29.000000  29.000000\n",
       "mean   1.995072e+07 -9999.0   87.482759  66.827586\n",
       "std    8.514693e+00     0.0    6.858887   7.151768\n",
       "min    1.995070e+07 -9999.0   76.000000  50.000000\n",
       "25%    1.995071e+07 -9999.0   84.000000  63.000000\n",
       "50%    1.995072e+07 -9999.0   87.000000  67.000000\n",
       "75%    1.995072e+07 -9999.0   90.000000  70.000000\n",
       "max    1.995073e+07 -9999.0  104.000000  83.000000"
      ]
     },
     "execution_count": 40,
     "metadata": {},
     "output_type": "execute_result"
    }
   ],
   "source": [
    "heatwave.describe()"
   ]
  },
  {
   "cell_type": "code",
   "execution_count": 41,
   "metadata": {
    "collapsed": false
   },
   "outputs": [
    {
     "data": {
      "text/plain": [
       "<matplotlib.text.Text at 0x1183be0b8>"
      ]
     },
     "execution_count": 41,
     "metadata": {},
     "output_type": "execute_result"
    },
    {
     "data": {
      "image/png": "[encoded data removed]",
      "text/plain": [
       "<matplotlib.figure.Figure at 0x118371710>"
      ]
     },
     "metadata": {},
     "output_type": "display_data"
    }
   ],
   "source": [
    "pp.plot(heatwave[\"DATE\"] - 19950700,heatwave[\"TMAX\"],color=\"r\")\n",
    "pp.plot(heatwave[\"DATE\"] - 19950700,heatwave[\"TMIN\"],color=\"b\")\n",
    "pp.xlabel(\"Day of July\")\n",
    "pp.ylabel(\"Degrees Fahrenheit\")\n",
    "pp.title(\"Chicago 1995 Heatwave\")"
   ]
  },
  {
   "cell_type": "markdown",
   "metadata": {},
   "source": [
    "### So now we see what this looks like, but we don't have a real good sense of how extreme this event is.\n",
    "### Let's try and look at this compared to the entire year's temperatures."
   ]
  },
  {
   "cell_type": "code",
   "execution_count": 42,
   "metadata": {
    "collapsed": false
   },
   "outputs": [
    {
     "data": {
      "text/html": [
       "<div>\n",
       "<table border=\"1\" class=\"dataframe\">\n",
       "  <thead>\n",
       "    <tr style=\"text-align: right;\">\n",
       "      <th></th>\n",
       "      <th>STATION</th>\n",
       "      <th>STATION_NAME</th>\n",
       "      <th>DATE</th>\n",
       "      <th>TAVG</th>\n",
       "      <th>TMAX</th>\n",
       "      <th>TMIN</th>\n",
       "    </tr>\n",
       "  </thead>\n",
       "  <tbody>\n",
       "    <tr>\n",
       "      <th>0</th>\n",
       "      <td>GHCND:USW00094846</td>\n",
       "      <td>CHICAGO OHARE INTERNATIONAL AIRPORT IL US</td>\n",
       "      <td>19950101</td>\n",
       "      <td>-9999</td>\n",
       "      <td>27</td>\n",
       "      <td>11</td>\n",
       "    </tr>\n",
       "    <tr>\n",
       "      <th>1</th>\n",
       "      <td>GHCND:USW00094846</td>\n",
       "      <td>CHICAGO OHARE INTERNATIONAL AIRPORT IL US</td>\n",
       "      <td>19950102</td>\n",
       "      <td>-9999</td>\n",
       "      <td>21</td>\n",
       "      <td>8</td>\n",
       "    </tr>\n",
       "    <tr>\n",
       "      <th>2</th>\n",
       "      <td>GHCND:USW00094846</td>\n",
       "      <td>CHICAGO OHARE INTERNATIONAL AIRPORT IL US</td>\n",
       "      <td>19950103</td>\n",
       "      <td>-9999</td>\n",
       "      <td>18</td>\n",
       "      <td>3</td>\n",
       "    </tr>\n",
       "    <tr>\n",
       "      <th>3</th>\n",
       "      <td>GHCND:USW00094846</td>\n",
       "      <td>CHICAGO OHARE INTERNATIONAL AIRPORT IL US</td>\n",
       "      <td>19950104</td>\n",
       "      <td>-9999</td>\n",
       "      <td>7</td>\n",
       "      <td>-1</td>\n",
       "    </tr>\n",
       "    <tr>\n",
       "      <th>4</th>\n",
       "      <td>GHCND:USW00094846</td>\n",
       "      <td>CHICAGO OHARE INTERNATIONAL AIRPORT IL US</td>\n",
       "      <td>19950105</td>\n",
       "      <td>-9999</td>\n",
       "      <td>19</td>\n",
       "      <td>-1</td>\n",
       "    </tr>\n",
       "  </tbody>\n",
       "</table>\n",
       "</div>"
      ],
      "text/plain": [
       "             STATION                               STATION_NAME      DATE  \\\n",
       "0  GHCND:USW00094846  CHICAGO OHARE INTERNATIONAL AIRPORT IL US  19950101   \n",
       "1  GHCND:USW00094846  CHICAGO OHARE INTERNATIONAL AIRPORT IL US  19950102   \n",
       "2  GHCND:USW00094846  CHICAGO OHARE INTERNATIONAL AIRPORT IL US  19950103   \n",
       "3  GHCND:USW00094846  CHICAGO OHARE INTERNATIONAL AIRPORT IL US  19950104   \n",
       "4  GHCND:USW00094846  CHICAGO OHARE INTERNATIONAL AIRPORT IL US  19950105   \n",
       "\n",
       "   TAVG  TMAX  TMIN  \n",
       "0 -9999    27    11  \n",
       "1 -9999    21     8  \n",
       "2 -9999    18     3  \n",
       "3 -9999     7    -1  \n",
       "4 -9999    19    -1  "
      ]
     },
     "execution_count": 42,
     "metadata": {},
     "output_type": "execute_result"
    }
   ],
   "source": [
    "y1995 = data[data[\"DATE\"] > 19950000]\n",
    "y1995 = y1995[data[\"DATE\"] < 19960000]\n",
    "y1995.head()"
   ]
  },
  {
   "cell_type": "code",
   "execution_count": 43,
   "metadata": {
    "collapsed": true
   },
   "outputs": [],
   "source": [
    "import datetime"
   ]
  },
  {
   "cell_type": "code",
   "execution_count": 44,
   "metadata": {
    "collapsed": true
   },
   "outputs": [],
   "source": [
    "y1995[\"DATE\"] = y1995[\"DATE\"] - 19950000"
   ]
  },
  {
   "cell_type": "code",
   "execution_count": 45,
   "metadata": {
    "collapsed": false
   },
   "outputs": [
    {
     "data": {
      "text/plain": [
       "0       101\n",
       "1       102\n",
       "2       103\n",
       "3       104\n",
       "4       105\n",
       "5       106\n",
       "6       107\n",
       "7       108\n",
       "8       109\n",
       "9       110\n",
       "10      111\n",
       "11      112\n",
       "12      113\n",
       "13      114\n",
       "14      115\n",
       "15      116\n",
       "16      117\n",
       "17      118\n",
       "18      119\n",
       "19      120\n",
       "20      121\n",
       "21      122\n",
       "22      123\n",
       "23      124\n",
       "24      125\n",
       "25      126\n",
       "26      127\n",
       "27      128\n",
       "28      129\n",
       "29      130\n",
       "       ... \n",
       "335    1202\n",
       "336    1203\n",
       "337    1204\n",
       "338    1205\n",
       "339    1206\n",
       "340    1207\n",
       "341    1208\n",
       "342    1209\n",
       "343    1210\n",
       "344    1211\n",
       "345    1212\n",
       "346    1213\n",
       "347    1214\n",
       "348    1215\n",
       "349    1216\n",
       "350    1217\n",
       "351    1218\n",
       "352    1219\n",
       "353    1220\n",
       "354    1221\n",
       "355    1222\n",
       "356    1223\n",
       "357    1224\n",
       "358    1225\n",
       "359    1226\n",
       "360    1227\n",
       "361    1228\n",
       "362    1229\n",
       "363    1230\n",
       "364    1231\n",
       "Name: DATE, dtype: int64"
      ]
     },
     "execution_count": 45,
     "metadata": {},
     "output_type": "execute_result"
    }
   ],
   "source": [
    "y1995[\"DATE\"]"
   ]
  },
  {
   "cell_type": "code",
   "execution_count": 46,
   "metadata": {
    "collapsed": false
   },
   "outputs": [
    {
     "data": {
      "image/png": "[encoded data removed]",
      "text/plain": [
       "<matplotlib.figure.Figure at 0x1183b5048>"
      ]
     },
     "metadata": {},
     "output_type": "display_data"
    }
   ],
   "source": [
    "pp.plot(y1995[\"DATE\"].index,y1995[\"TMAX\"],color=\"r\")\n",
    "pp.plot(y1995[\"DATE\"].index,y1995[\"TMIN\"],color=\"b\")\n",
    "pp.xlabel(\"Day of Year (1995)\")\n",
    "pp.ylabel(\"Degrees Fahrenheit\")\n",
    "pp.title(\"Min and Max Temperatures of 1995\")\n",
    "pp.savefig(\"1995Total\")"
   ]
  },
  {
   "cell_type": "code",
   "execution_count": 47,
   "metadata": {
    "collapsed": false
   },
   "outputs": [
    {
     "data": {
      "text/html": [
       "<div>\n",
       "<table border=\"1\" class=\"dataframe\">\n",
       "  <thead>\n",
       "    <tr style=\"text-align: right;\">\n",
       "      <th></th>\n",
       "      <th>STATION</th>\n",
       "      <th>STATION_NAME</th>\n",
       "      <th>DATE</th>\n",
       "      <th>TAVG</th>\n",
       "      <th>TMAX</th>\n",
       "      <th>TMIN</th>\n",
       "    </tr>\n",
       "  </thead>\n",
       "  <tbody>\n",
       "    <tr>\n",
       "      <th>181</th>\n",
       "      <td>GHCND:USW00094846</td>\n",
       "      <td>CHICAGO OHARE INTERNATIONAL AIRPORT IL US</td>\n",
       "      <td>701</td>\n",
       "      <td>-9999</td>\n",
       "      <td>76</td>\n",
       "      <td>54</td>\n",
       "    </tr>\n",
       "    <tr>\n",
       "      <th>182</th>\n",
       "      <td>GHCND:USW00094846</td>\n",
       "      <td>CHICAGO OHARE INTERNATIONAL AIRPORT IL US</td>\n",
       "      <td>702</td>\n",
       "      <td>-9999</td>\n",
       "      <td>77</td>\n",
       "      <td>50</td>\n",
       "    </tr>\n",
       "    <tr>\n",
       "      <th>183</th>\n",
       "      <td>GHCND:USW00094846</td>\n",
       "      <td>CHICAGO OHARE INTERNATIONAL AIRPORT IL US</td>\n",
       "      <td>703</td>\n",
       "      <td>-9999</td>\n",
       "      <td>82</td>\n",
       "      <td>61</td>\n",
       "    </tr>\n",
       "    <tr>\n",
       "      <th>184</th>\n",
       "      <td>GHCND:USW00094846</td>\n",
       "      <td>CHICAGO OHARE INTERNATIONAL AIRPORT IL US</td>\n",
       "      <td>704</td>\n",
       "      <td>-9999</td>\n",
       "      <td>84</td>\n",
       "      <td>66</td>\n",
       "    </tr>\n",
       "    <tr>\n",
       "      <th>185</th>\n",
       "      <td>GHCND:USW00094846</td>\n",
       "      <td>CHICAGO OHARE INTERNATIONAL AIRPORT IL US</td>\n",
       "      <td>705</td>\n",
       "      <td>-9999</td>\n",
       "      <td>85</td>\n",
       "      <td>65</td>\n",
       "    </tr>\n",
       "    <tr>\n",
       "      <th>186</th>\n",
       "      <td>GHCND:USW00094846</td>\n",
       "      <td>CHICAGO OHARE INTERNATIONAL AIRPORT IL US</td>\n",
       "      <td>706</td>\n",
       "      <td>-9999</td>\n",
       "      <td>78</td>\n",
       "      <td>67</td>\n",
       "    </tr>\n",
       "    <tr>\n",
       "      <th>187</th>\n",
       "      <td>GHCND:USW00094846</td>\n",
       "      <td>CHICAGO OHARE INTERNATIONAL AIRPORT IL US</td>\n",
       "      <td>707</td>\n",
       "      <td>-9999</td>\n",
       "      <td>79</td>\n",
       "      <td>61</td>\n",
       "    </tr>\n",
       "    <tr>\n",
       "      <th>188</th>\n",
       "      <td>GHCND:USW00094846</td>\n",
       "      <td>CHICAGO OHARE INTERNATIONAL AIRPORT IL US</td>\n",
       "      <td>708</td>\n",
       "      <td>-9999</td>\n",
       "      <td>84</td>\n",
       "      <td>57</td>\n",
       "    </tr>\n",
       "    <tr>\n",
       "      <th>189</th>\n",
       "      <td>GHCND:USW00094846</td>\n",
       "      <td>CHICAGO OHARE INTERNATIONAL AIRPORT IL US</td>\n",
       "      <td>709</td>\n",
       "      <td>-9999</td>\n",
       "      <td>84</td>\n",
       "      <td>61</td>\n",
       "    </tr>\n",
       "    <tr>\n",
       "      <th>190</th>\n",
       "      <td>GHCND:USW00094846</td>\n",
       "      <td>CHICAGO OHARE INTERNATIONAL AIRPORT IL US</td>\n",
       "      <td>710</td>\n",
       "      <td>-9999</td>\n",
       "      <td>87</td>\n",
       "      <td>61</td>\n",
       "    </tr>\n",
       "    <tr>\n",
       "      <th>191</th>\n",
       "      <td>GHCND:USW00094846</td>\n",
       "      <td>CHICAGO OHARE INTERNATIONAL AIRPORT IL US</td>\n",
       "      <td>711</td>\n",
       "      <td>-9999</td>\n",
       "      <td>89</td>\n",
       "      <td>69</td>\n",
       "    </tr>\n",
       "    <tr>\n",
       "      <th>192</th>\n",
       "      <td>GHCND:USW00094846</td>\n",
       "      <td>CHICAGO OHARE INTERNATIONAL AIRPORT IL US</td>\n",
       "      <td>712</td>\n",
       "      <td>-9999</td>\n",
       "      <td>97</td>\n",
       "      <td>73</td>\n",
       "    </tr>\n",
       "    <tr>\n",
       "      <th>193</th>\n",
       "      <td>GHCND:USW00094846</td>\n",
       "      <td>CHICAGO OHARE INTERNATIONAL AIRPORT IL US</td>\n",
       "      <td>713</td>\n",
       "      <td>-9999</td>\n",
       "      <td>104</td>\n",
       "      <td>81</td>\n",
       "    </tr>\n",
       "    <tr>\n",
       "      <th>194</th>\n",
       "      <td>GHCND:USW00094846</td>\n",
       "      <td>CHICAGO OHARE INTERNATIONAL AIRPORT IL US</td>\n",
       "      <td>714</td>\n",
       "      <td>-9999</td>\n",
       "      <td>100</td>\n",
       "      <td>83</td>\n",
       "    </tr>\n",
       "    <tr>\n",
       "      <th>195</th>\n",
       "      <td>GHCND:USW00094846</td>\n",
       "      <td>CHICAGO OHARE INTERNATIONAL AIRPORT IL US</td>\n",
       "      <td>715</td>\n",
       "      <td>-9999</td>\n",
       "      <td>98</td>\n",
       "      <td>75</td>\n",
       "    </tr>\n",
       "    <tr>\n",
       "      <th>196</th>\n",
       "      <td>GHCND:USW00094846</td>\n",
       "      <td>CHICAGO OHARE INTERNATIONAL AIRPORT IL US</td>\n",
       "      <td>716</td>\n",
       "      <td>-9999</td>\n",
       "      <td>93</td>\n",
       "      <td>74</td>\n",
       "    </tr>\n",
       "    <tr>\n",
       "      <th>197</th>\n",
       "      <td>GHCND:USW00094846</td>\n",
       "      <td>CHICAGO OHARE INTERNATIONAL AIRPORT IL US</td>\n",
       "      <td>717</td>\n",
       "      <td>-9999</td>\n",
       "      <td>87</td>\n",
       "      <td>70</td>\n",
       "    </tr>\n",
       "    <tr>\n",
       "      <th>198</th>\n",
       "      <td>GHCND:USW00094846</td>\n",
       "      <td>CHICAGO OHARE INTERNATIONAL AIRPORT IL US</td>\n",
       "      <td>718</td>\n",
       "      <td>-9999</td>\n",
       "      <td>86</td>\n",
       "      <td>63</td>\n",
       "    </tr>\n",
       "    <tr>\n",
       "      <th>199</th>\n",
       "      <td>GHCND:USW00094846</td>\n",
       "      <td>CHICAGO OHARE INTERNATIONAL AIRPORT IL US</td>\n",
       "      <td>719</td>\n",
       "      <td>-9999</td>\n",
       "      <td>89</td>\n",
       "      <td>63</td>\n",
       "    </tr>\n",
       "    <tr>\n",
       "      <th>200</th>\n",
       "      <td>GHCND:USW00094846</td>\n",
       "      <td>CHICAGO OHARE INTERNATIONAL AIRPORT IL US</td>\n",
       "      <td>720</td>\n",
       "      <td>-9999</td>\n",
       "      <td>79</td>\n",
       "      <td>69</td>\n",
       "    </tr>\n",
       "    <tr>\n",
       "      <th>201</th>\n",
       "      <td>GHCND:USW00094846</td>\n",
       "      <td>CHICAGO OHARE INTERNATIONAL AIRPORT IL US</td>\n",
       "      <td>721</td>\n",
       "      <td>-9999</td>\n",
       "      <td>85</td>\n",
       "      <td>63</td>\n",
       "    </tr>\n",
       "    <tr>\n",
       "      <th>202</th>\n",
       "      <td>GHCND:USW00094846</td>\n",
       "      <td>CHICAGO OHARE INTERNATIONAL AIRPORT IL US</td>\n",
       "      <td>722</td>\n",
       "      <td>-9999</td>\n",
       "      <td>85</td>\n",
       "      <td>67</td>\n",
       "    </tr>\n",
       "    <tr>\n",
       "      <th>203</th>\n",
       "      <td>GHCND:USW00094846</td>\n",
       "      <td>CHICAGO OHARE INTERNATIONAL AIRPORT IL US</td>\n",
       "      <td>723</td>\n",
       "      <td>-9999</td>\n",
       "      <td>87</td>\n",
       "      <td>65</td>\n",
       "    </tr>\n",
       "    <tr>\n",
       "      <th>204</th>\n",
       "      <td>GHCND:USW00094846</td>\n",
       "      <td>CHICAGO OHARE INTERNATIONAL AIRPORT IL US</td>\n",
       "      <td>724</td>\n",
       "      <td>-9999</td>\n",
       "      <td>89</td>\n",
       "      <td>70</td>\n",
       "    </tr>\n",
       "    <tr>\n",
       "      <th>205</th>\n",
       "      <td>GHCND:USW00094846</td>\n",
       "      <td>CHICAGO OHARE INTERNATIONAL AIRPORT IL US</td>\n",
       "      <td>725</td>\n",
       "      <td>-9999</td>\n",
       "      <td>92</td>\n",
       "      <td>70</td>\n",
       "    </tr>\n",
       "    <tr>\n",
       "      <th>206</th>\n",
       "      <td>GHCND:USW00094846</td>\n",
       "      <td>CHICAGO OHARE INTERNATIONAL AIRPORT IL US</td>\n",
       "      <td>726</td>\n",
       "      <td>-9999</td>\n",
       "      <td>87</td>\n",
       "      <td>70</td>\n",
       "    </tr>\n",
       "    <tr>\n",
       "      <th>207</th>\n",
       "      <td>GHCND:USW00094846</td>\n",
       "      <td>CHICAGO OHARE INTERNATIONAL AIRPORT IL US</td>\n",
       "      <td>727</td>\n",
       "      <td>-9999</td>\n",
       "      <td>90</td>\n",
       "      <td>70</td>\n",
       "    </tr>\n",
       "    <tr>\n",
       "      <th>208</th>\n",
       "      <td>GHCND:USW00094846</td>\n",
       "      <td>CHICAGO OHARE INTERNATIONAL AIRPORT IL US</td>\n",
       "      <td>728</td>\n",
       "      <td>-9999</td>\n",
       "      <td>89</td>\n",
       "      <td>71</td>\n",
       "    </tr>\n",
       "    <tr>\n",
       "      <th>209</th>\n",
       "      <td>GHCND:USW00094846</td>\n",
       "      <td>CHICAGO OHARE INTERNATIONAL AIRPORT IL US</td>\n",
       "      <td>729</td>\n",
       "      <td>-9999</td>\n",
       "      <td>95</td>\n",
       "      <td>69</td>\n",
       "    </tr>\n",
       "  </tbody>\n",
       "</table>\n",
       "</div>"
      ],
      "text/plain": [
       "               STATION                               STATION_NAME  DATE  TAVG  \\\n",
       "181  GHCND:USW00094846  CHICAGO OHARE INTERNATIONAL AIRPORT IL US   701 -9999   \n",
       "182  GHCND:USW00094846  CHICAGO OHARE INTERNATIONAL AIRPORT IL US   702 -9999   \n",
       "183  GHCND:USW00094846  CHICAGO OHARE INTERNATIONAL AIRPORT IL US   703 -9999   \n",
       "184  GHCND:USW00094846  CHICAGO OHARE INTERNATIONAL AIRPORT IL US   704 -9999   \n",
       "185  GHCND:USW00094846  CHICAGO OHARE INTERNATIONAL AIRPORT IL US   705 -9999   \n",
       "186  GHCND:USW00094846  CHICAGO OHARE INTERNATIONAL AIRPORT IL US   706 -9999   \n",
       "187  GHCND:USW00094846  CHICAGO OHARE INTERNATIONAL AIRPORT IL US   707 -9999   \n",
       "188  GHCND:USW00094846  CHICAGO OHARE INTERNATIONAL AIRPORT IL US   708 -9999   \n",
       "189  GHCND:USW00094846  CHICAGO OHARE INTERNATIONAL AIRPORT IL US   709 -9999   \n",
       "190  GHCND:USW00094846  CHICAGO OHARE INTERNATIONAL AIRPORT IL US   710 -9999   \n",
       "191  GHCND:USW00094846  CHICAGO OHARE INTERNATIONAL AIRPORT IL US   711 -9999   \n",
       "192  GHCND:USW00094846  CHICAGO OHARE INTERNATIONAL AIRPORT IL US   712 -9999   \n",
       "193  GHCND:USW00094846  CHICAGO OHARE INTERNATIONAL AIRPORT IL US   713 -9999   \n",
       "194  GHCND:USW00094846  CHICAGO OHARE INTERNATIONAL AIRPORT IL US   714 -9999   \n",
       "195  GHCND:USW00094846  CHICAGO OHARE INTERNATIONAL AIRPORT IL US   715 -9999   \n",
       "196  GHCND:USW00094846  CHICAGO OHARE INTERNATIONAL AIRPORT IL US   716 -9999   \n",
       "197  GHCND:USW00094846  CHICAGO OHARE INTERNATIONAL AIRPORT IL US   717 -9999   \n",
       "198  GHCND:USW00094846  CHICAGO OHARE INTERNATIONAL AIRPORT IL US   718 -9999   \n",
       "199  GHCND:USW00094846  CHICAGO OHARE INTERNATIONAL AIRPORT IL US   719 -9999   \n",
       "200  GHCND:USW00094846  CHICAGO OHARE INTERNATIONAL AIRPORT IL US   720 -9999   \n",
       "201  GHCND:USW00094846  CHICAGO OHARE INTERNATIONAL AIRPORT IL US   721 -9999   \n",
       "202  GHCND:USW00094846  CHICAGO OHARE INTERNATIONAL AIRPORT IL US   722 -9999   \n",
       "203  GHCND:USW00094846  CHICAGO OHARE INTERNATIONAL AIRPORT IL US   723 -9999   \n",
       "204  GHCND:USW00094846  CHICAGO OHARE INTERNATIONAL AIRPORT IL US   724 -9999   \n",
       "205  GHCND:USW00094846  CHICAGO OHARE INTERNATIONAL AIRPORT IL US   725 -9999   \n",
       "206  GHCND:USW00094846  CHICAGO OHARE INTERNATIONAL AIRPORT IL US   726 -9999   \n",
       "207  GHCND:USW00094846  CHICAGO OHARE INTERNATIONAL AIRPORT IL US   727 -9999   \n",
       "208  GHCND:USW00094846  CHICAGO OHARE INTERNATIONAL AIRPORT IL US   728 -9999   \n",
       "209  GHCND:USW00094846  CHICAGO OHARE INTERNATIONAL AIRPORT IL US   729 -9999   \n",
       "\n",
       "     TMAX  TMIN  \n",
       "181    76    54  \n",
       "182    77    50  \n",
       "183    82    61  \n",
       "184    84    66  \n",
       "185    85    65  \n",
       "186    78    67  \n",
       "187    79    61  \n",
       "188    84    57  \n",
       "189    84    61  \n",
       "190    87    61  \n",
       "191    89    69  \n",
       "192    97    73  \n",
       "193   104    81  \n",
       "194   100    83  \n",
       "195    98    75  \n",
       "196    93    74  \n",
       "197    87    70  \n",
       "198    86    63  \n",
       "199    89    63  \n",
       "200    79    69  \n",
       "201    85    63  \n",
       "202    85    67  \n",
       "203    87    65  \n",
       "204    89    70  \n",
       "205    92    70  \n",
       "206    87    70  \n",
       "207    90    70  \n",
       "208    89    71  \n",
       "209    95    69  "
      ]
     },
     "execution_count": 47,
     "metadata": {},
     "output_type": "execute_result"
    }
   ],
   "source": [
    "y1995[181:210]"
   ]
  },
  {
   "cell_type": "code",
   "execution_count": 48,
   "metadata": {
    "collapsed": false
   },
   "outputs": [
    {
     "data": {
      "text/plain": [
       "count    365.000000\n",
       "mean      59.084932\n",
       "std       22.882666\n",
       "min        5.000000\n",
       "25%       38.000000\n",
       "50%       59.000000\n",
       "75%       80.000000\n",
       "max      104.000000\n",
       "Name: TMAX, dtype: float64"
      ]
     },
     "execution_count": 48,
     "metadata": {},
     "output_type": "execute_result"
    }
   ],
   "source": [
    "y1995[\"TMAX\"].describe()"
   ]
  },
  {
   "cell_type": "markdown",
   "metadata": {},
   "source": [
    "### That didn't help us much, so let's look at how it compares to average July's in Chicago"
   ]
  },
  {
   "cell_type": "code",
   "execution_count": 49,
   "metadata": {
    "collapsed": true
   },
   "outputs": [],
   "source": [
    "monthlies = pd.read_csv(\"NASAchi_monthly_data.csv\")"
   ]
  },
  {
   "cell_type": "code",
   "execution_count": 50,
   "metadata": {
    "collapsed": false
   },
   "outputs": [
    {
     "data": {
      "text/html": [
       "<div>\n",
       "<table border=\"1\" class=\"dataframe\">\n",
       "  <thead>\n",
       "    <tr style=\"text-align: right;\">\n",
       "      <th></th>\n",
       "      <th>YEAR</th>\n",
       "      <th>JAN</th>\n",
       "      <th>FEB</th>\n",
       "      <th>MAR</th>\n",
       "      <th>APR</th>\n",
       "      <th>MAY</th>\n",
       "      <th>JUN</th>\n",
       "      <th>JUL</th>\n",
       "      <th>AUG</th>\n",
       "      <th>SEP</th>\n",
       "      <th>OCT</th>\n",
       "      <th>NOV</th>\n",
       "      <th>DEC</th>\n",
       "      <th>D-J-F</th>\n",
       "      <th>M-A-M</th>\n",
       "      <th>J-J-A</th>\n",
       "      <th>S-O-N</th>\n",
       "      <th>metANN</th>\n",
       "    </tr>\n",
       "  </thead>\n",
       "  <tbody>\n",
       "    <tr>\n",
       "      <th>53</th>\n",
       "      <td>2013</td>\n",
       "      <td>-2.86</td>\n",
       "      <td>-3.16</td>\n",
       "      <td>0.44</td>\n",
       "      <td>8.34</td>\n",
       "      <td>16.14</td>\n",
       "      <td>20.34</td>\n",
       "      <td>22.94</td>\n",
       "      <td>22.84</td>\n",
       "      <td>19.54</td>\n",
       "      <td>11.74</td>\n",
       "      <td>3.14</td>\n",
       "      <td>-4.68</td>\n",
       "      <td>-1.23</td>\n",
       "      <td>8.31</td>\n",
       "      <td>22.04</td>\n",
       "      <td>11.47</td>\n",
       "      <td>10.15</td>\n",
       "    </tr>\n",
       "    <tr>\n",
       "      <th>54</th>\n",
       "      <td>2014</td>\n",
       "      <td>-8.98</td>\n",
       "      <td>-8.08</td>\n",
       "      <td>-0.08</td>\n",
       "      <td>9.22</td>\n",
       "      <td>15.82</td>\n",
       "      <td>21.62</td>\n",
       "      <td>21.32</td>\n",
       "      <td>23.22</td>\n",
       "      <td>17.72</td>\n",
       "      <td>11.12</td>\n",
       "      <td>0.92</td>\n",
       "      <td>0.01</td>\n",
       "      <td>-7.25</td>\n",
       "      <td>8.32</td>\n",
       "      <td>22.05</td>\n",
       "      <td>9.92</td>\n",
       "      <td>8.26</td>\n",
       "    </tr>\n",
       "    <tr>\n",
       "      <th>55</th>\n",
       "      <td>2015</td>\n",
       "      <td>-5.29</td>\n",
       "      <td>-9.59</td>\n",
       "      <td>1.91</td>\n",
       "      <td>9.71</td>\n",
       "      <td>15.71</td>\n",
       "      <td>19.61</td>\n",
       "      <td>22.41</td>\n",
       "      <td>22.11</td>\n",
       "      <td>20.51</td>\n",
       "      <td>12.61</td>\n",
       "      <td>7.01</td>\n",
       "      <td>3.90</td>\n",
       "      <td>-4.96</td>\n",
       "      <td>9.11</td>\n",
       "      <td>21.38</td>\n",
       "      <td>13.38</td>\n",
       "      <td>9.73</td>\n",
       "    </tr>\n",
       "    <tr>\n",
       "      <th>56</th>\n",
       "      <td>2016</td>\n",
       "      <td>-4.00</td>\n",
       "      <td>-0.90</td>\n",
       "      <td>6.30</td>\n",
       "      <td>8.80</td>\n",
       "      <td>15.40</td>\n",
       "      <td>22.00</td>\n",
       "      <td>24.10</td>\n",
       "      <td>24.30</td>\n",
       "      <td>20.90</td>\n",
       "      <td>13.80</td>\n",
       "      <td>8.20</td>\n",
       "      <td>-3.90</td>\n",
       "      <td>-0.33</td>\n",
       "      <td>10.17</td>\n",
       "      <td>23.47</td>\n",
       "      <td>14.30</td>\n",
       "      <td>11.90</td>\n",
       "    </tr>\n",
       "    <tr>\n",
       "      <th>57</th>\n",
       "      <td>2017</td>\n",
       "      <td>-1.70</td>\n",
       "      <td>3.40</td>\n",
       "      <td>4.20</td>\n",
       "      <td>999.90</td>\n",
       "      <td>999.90</td>\n",
       "      <td>999.90</td>\n",
       "      <td>999.90</td>\n",
       "      <td>999.90</td>\n",
       "      <td>999.90</td>\n",
       "      <td>999.90</td>\n",
       "      <td>999.90</td>\n",
       "      <td>999.90</td>\n",
       "      <td>-0.73</td>\n",
       "      <td>999.90</td>\n",
       "      <td>999.90</td>\n",
       "      <td>999.90</td>\n",
       "      <td>999.90</td>\n",
       "    </tr>\n",
       "  </tbody>\n",
       "</table>\n",
       "</div>"
      ],
      "text/plain": [
       "    YEAR   JAN   FEB   MAR     APR     MAY     JUN     JUL     AUG     SEP  \\\n",
       "53  2013 -2.86 -3.16  0.44    8.34   16.14   20.34   22.94   22.84   19.54   \n",
       "54  2014 -8.98 -8.08 -0.08    9.22   15.82   21.62   21.32   23.22   17.72   \n",
       "55  2015 -5.29 -9.59  1.91    9.71   15.71   19.61   22.41   22.11   20.51   \n",
       "56  2016 -4.00 -0.90  6.30    8.80   15.40   22.00   24.10   24.30   20.90   \n",
       "57  2017 -1.70  3.40  4.20  999.90  999.90  999.90  999.90  999.90  999.90   \n",
       "\n",
       "       OCT     NOV     DEC  D-J-F   M-A-M   J-J-A   S-O-N  metANN  \n",
       "53   11.74    3.14   -4.68  -1.23    8.31   22.04   11.47   10.15  \n",
       "54   11.12    0.92    0.01  -7.25    8.32   22.05    9.92    8.26  \n",
       "55   12.61    7.01    3.90  -4.96    9.11   21.38   13.38    9.73  \n",
       "56   13.80    8.20   -3.90  -0.33   10.17   23.47   14.30   11.90  \n",
       "57  999.90  999.90  999.90  -0.73  999.90  999.90  999.90  999.90  "
      ]
     },
     "execution_count": 50,
     "metadata": {},
     "output_type": "execute_result"
    }
   ],
   "source": [
    "monthlies.tail()"
   ]
  },
  {
   "cell_type": "code",
   "execution_count": 51,
   "metadata": {
    "collapsed": true
   },
   "outputs": [],
   "source": [
    "monthlies = monthlies[monthlies[\"JUL\"] < 200]"
   ]
  },
  {
   "cell_type": "code",
   "execution_count": 52,
   "metadata": {
    "collapsed": true
   },
   "outputs": [],
   "source": [
    "julys = monthlies[\"JUL\"]"
   ]
  },
  {
   "cell_type": "code",
   "execution_count": 53,
   "metadata": {
    "collapsed": false
   },
   "outputs": [
    {
     "data": {
      "text/plain": [
       "count    54.000000\n",
       "mean     74.036000\n",
       "std       2.723935\n",
       "min      69.026000\n",
       "25%      71.852000\n",
       "50%      73.868000\n",
       "75%      75.704000\n",
       "max      81.050000\n",
       "Name: JUL, dtype: float64"
      ]
     },
     "execution_count": 53,
     "metadata": {},
     "output_type": "execute_result"
    }
   ],
   "source": [
    "(julys * 1.8 + 32).describe()"
   ]
  },
  {
   "cell_type": "code",
   "execution_count": 54,
   "metadata": {
    "collapsed": false
   },
   "outputs": [
    {
     "data": {
      "text/plain": [
       "23.35333333333334"
      ]
     },
     "execution_count": 54,
     "metadata": {},
     "output_type": "execute_result"
    }
   ],
   "source": [
    "julys.mean()"
   ]
  },
  {
   "cell_type": "markdown",
   "metadata": {},
   "source": [
    "### We can observe some simple statistics about what the typical month of July is like in Chicago"
   ]
  },
  {
   "cell_type": "code",
   "execution_count": 55,
   "metadata": {
    "collapsed": false
   },
   "outputs": [
    {
     "data": {
      "text/plain": [
       "YEAR      2015.00\n",
       "JAN         -5.29\n",
       "FEB         -9.59\n",
       "MAR          1.91\n",
       "APR          9.71\n",
       "MAY         15.71\n",
       "JUN         19.61\n",
       "JUL         22.41\n",
       "AUG         22.11\n",
       "SEP         20.51\n",
       "OCT         12.61\n",
       "NOV          7.01\n",
       "DEC          3.90\n",
       "D-J-F       -4.96\n",
       "M-A-M        9.11\n",
       "J-J-A       21.38\n",
       "S-O-N       13.38\n",
       "metANN       9.73\n",
       "Name: 55, dtype: float64"
      ]
     },
     "execution_count": 55,
     "metadata": {},
     "output_type": "execute_result"
    }
   ],
   "source": [
    "monthlies.iloc[52]"
   ]
  },
  {
   "cell_type": "code",
   "execution_count": 56,
   "metadata": {
    "collapsed": false
   },
   "outputs": [
    {
     "data": {
      "text/plain": [
       "[<matplotlib.lines.Line2D at 0x1186b1438>]"
      ]
     },
     "execution_count": 56,
     "metadata": {},
     "output_type": "execute_result"
    },
    {
     "data": {
      "image/png": "[encoded data removed]",
      "text/plain": [
       "<matplotlib.figure.Figure at 0x11838c2e8>"
      ]
     },
     "metadata": {},
     "output_type": "display_data"
    }
   ],
   "source": [
    "pp.plot(julys.index,julys)"
   ]
  },
  {
   "cell_type": "code",
   "execution_count": 57,
   "metadata": {
    "collapsed": false
   },
   "outputs": [
    {
     "data": {
      "text/html": [
       "<div>\n",
       "<table border=\"1\" class=\"dataframe\">\n",
       "  <thead>\n",
       "    <tr style=\"text-align: right;\">\n",
       "      <th></th>\n",
       "      <th>YEAR</th>\n",
       "      <th>JAN</th>\n",
       "      <th>FEB</th>\n",
       "      <th>MAR</th>\n",
       "      <th>APR</th>\n",
       "      <th>MAY</th>\n",
       "      <th>JUN</th>\n",
       "      <th>JUL</th>\n",
       "      <th>AUG</th>\n",
       "      <th>SEP</th>\n",
       "      <th>OCT</th>\n",
       "      <th>NOV</th>\n",
       "      <th>DEC</th>\n",
       "      <th>D-J-F</th>\n",
       "      <th>M-A-M</th>\n",
       "      <th>J-J-A</th>\n",
       "      <th>S-O-N</th>\n",
       "      <th>metANN</th>\n",
       "    </tr>\n",
       "  </thead>\n",
       "  <tbody>\n",
       "    <tr>\n",
       "      <th>35</th>\n",
       "      <td>1995</td>\n",
       "      <td>-4.22</td>\n",
       "      <td>-2.92</td>\n",
       "      <td>4.78</td>\n",
       "      <td>7.98</td>\n",
       "      <td>15.08</td>\n",
       "      <td>22.58</td>\n",
       "      <td>25.48</td>\n",
       "      <td>26.28</td>\n",
       "      <td>17.08</td>\n",
       "      <td>12.28</td>\n",
       "      <td>0.58</td>\n",
       "      <td>-3.02</td>\n",
       "      <td>-1.79</td>\n",
       "      <td>9.28</td>\n",
       "      <td>24.78</td>\n",
       "      <td>9.98</td>\n",
       "      <td>10.56</td>\n",
       "    </tr>\n",
       "  </tbody>\n",
       "</table>\n",
       "</div>"
      ],
      "text/plain": [
       "    YEAR   JAN   FEB   MAR   APR    MAY    JUN    JUL    AUG    SEP    OCT  \\\n",
       "35  1995 -4.22 -2.92  4.78  7.98  15.08  22.58  25.48  26.28  17.08  12.28   \n",
       "\n",
       "     NOV   DEC  D-J-F  M-A-M  J-J-A  S-O-N  metANN  \n",
       "35  0.58 -3.02  -1.79   9.28  24.78   9.98   10.56  "
      ]
     },
     "execution_count": 57,
     "metadata": {},
     "output_type": "execute_result"
    }
   ],
   "source": [
    "monthlies[monthlies[\"YEAR\"] == 1995]"
   ]
  },
  {
   "cell_type": "code",
   "execution_count": 58,
   "metadata": {
    "collapsed": false
   },
   "outputs": [
    {
     "data": {
      "text/plain": [
       "array([ 74.036,  74.036,  74.036,  74.036,  74.036,  74.036,  74.036,\n",
       "        74.036,  74.036,  74.036,  74.036,  74.036,  74.036,  74.036,\n",
       "        74.036,  74.036,  74.036,  74.036,  74.036,  74.036,  74.036,\n",
       "        74.036,  74.036,  74.036,  74.036,  74.036,  74.036,  74.036,\n",
       "        74.036])"
      ]
     },
     "execution_count": 58,
     "metadata": {},
     "output_type": "execute_result"
    }
   ],
   "source": [
    "import numpy as np\n",
    "fiftytwos = np.full(29,julys.mean())\n",
    "fiftytwos = (fiftytwos * 1.8) + 32\n",
    "fiftytwos"
   ]
  },
  {
   "cell_type": "code",
   "execution_count": 59,
   "metadata": {
    "collapsed": false
   },
   "outputs": [
    {
     "data": {
      "image/png": "[encoded data removed]",
      "text/plain": [
       "<matplotlib.figure.Figure at 0x11886b0f0>"
      ]
     },
     "metadata": {},
     "output_type": "display_data"
    }
   ],
   "source": [
    "pp.plot(heatwave[\"DATE\"] - 19950700,heatwave[\"TMAX\"],color=\"r\")\n",
    "pp.plot(heatwave[\"DATE\"] - 19950700,heatwave[\"TMIN\"],color=\"b\")\n",
    "pp.plot(heatwave[\"DATE\"] - 19950700,fiftytwos, color = \"black\")\n",
    "pp.legend(bbox_to_anchor=(1.05, 1), loc=2, borderaxespad=0.)\n",
    "pp.xlabel(\"Day of July\")\n",
    "pp.ylabel(\"Degrees Fahrenheit\")\n",
    "pp.title(\"Chicago 1995 Heatwave\")\n",
    "pp.savefig('1995HeatWaveChicago.png')"
   ]
  },
  {
   "cell_type": "markdown",
   "metadata": {},
   "source": [
    "# And so our final figure can give us a good representation of how our daily Max and Min temperatures compare to the daily average temperature of July in Chicago from 1960-2016"
   ]
  },
  {
   "cell_type": "code",
   "execution_count": null,
   "metadata": {
    "collapsed": true
   },
   "outputs": [],
   "source": []
  }
 ],
 "metadata": {
  "kernelspec": {
   "display_name": "Python [Root]",
   "language": "python",
   "name": "Python [Root]"
  },
  "language_info": {
   "codemirror_mode": {
    "name": "ipython",
    "version": 3
   },
   "file_extension": ".py",
   "mimetype": "text/x-python",
   "name": "python",
   "nbconvert_exporter": "python",
   "pygments_lexer": "ipython3",
   "version": "3.5.2"
  }
 },
 "nbformat": 4,
 "nbformat_minor": 2
}
