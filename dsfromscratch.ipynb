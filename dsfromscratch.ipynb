{
 "cells": [
  {
   "cell_type": "code",
   "execution_count": 1,
   "metadata": {},
   "outputs": [],
   "source": [
    "import pandas as pd\n",
    "import numpy as np\n",
    "import matplotlib.pyplot as pp\n",
    "%matplotlib inline\n",
    "import seaborn as sns"
   ]
  },
  {
   "cell_type": "code",
   "execution_count": 2,
   "metadata": {},
   "outputs": [],
   "source": [
    "users = [\n",
    "        { \"id\": 0, \"name\": \"Hero\" },\n",
    "        { \"id\": 1, \"name\": \"Dunn\" },\n",
    "        { \"id\": 2, \"name\": \"Sue\" },\n",
    "        { \"id\": 3, \"name\": \"Chi\" },\n",
    "        { \"id\": 4, \"name\": \"Thor\" },\n",
    "        { \"id\": 5, \"name\": \"Clive\" },\n",
    "        { \"id\": 6, \"name\": \"Hicks\" },\n",
    "        { \"id\": 7, \"name\": \"Devin\" },\n",
    "        { \"id\": 8, \"name\": \"Kate\" },\n",
    "        { \"id\": 9, \"name\": \"Klein\" }\n",
    "]\n"
   ]
  },
  {
   "cell_type": "code",
   "execution_count": 3,
   "metadata": {},
   "outputs": [],
   "source": [
    "friendships = [(0, 1), (0, 2), (1, 2), (1, 3), (2, 3), (3, 4),\n",
    "                   (4, 5), (5, 6), (5, 7), (6, 8), (7, 8), (8, 9)]"
   ]
  },
  {
   "cell_type": "code",
   "execution_count": 5,
   "metadata": {},
   "outputs": [],
   "source": [
    "for user in users:\n",
    "    user['friends'] = []"
   ]
  },
  {
   "cell_type": "code",
   "execution_count": 6,
   "metadata": {},
   "outputs": [
    {
     "data": {
      "text/plain": [
       "[{'friends': [], 'id': 0, 'name': 'Hero'},\n",
       " {'friends': [], 'id': 1, 'name': 'Dunn'},\n",
       " {'friends': [], 'id': 2, 'name': 'Sue'},\n",
       " {'friends': [], 'id': 3, 'name': 'Chi'},\n",
       " {'friends': [], 'id': 4, 'name': 'Thor'},\n",
       " {'friends': [], 'id': 5, 'name': 'Clive'},\n",
       " {'friends': [], 'id': 6, 'name': 'Hicks'},\n",
       " {'friends': [], 'id': 7, 'name': 'Devin'},\n",
       " {'friends': [], 'id': 8, 'name': 'Kate'},\n",
       " {'friends': [], 'id': 9, 'name': 'Klein'}]"
      ]
     },
     "execution_count": 6,
     "metadata": {},
     "output_type": "execute_result"
    }
   ],
   "source": [
    "users"
   ]
  },
  {
   "cell_type": "code",
   "execution_count": 7,
   "metadata": {},
   "outputs": [],
   "source": [
    "for i,j in friendships:\n",
    "    users[i]['friends'].append(users[j])"
   ]
  },
  {
   "cell_type": "code",
   "execution_count": 8,
   "metadata": {},
   "outputs": [
    {
     "data": {
      "text/plain": [
       "[{'friends': [{'friends': [{'friends': [{'friends': [{'friends': [{'friends': [{'friends': [{'friends': [{'friends': [],\n",
       "                  'id': 9,\n",
       "                  'name': 'Klein'}],\n",
       "                'id': 8,\n",
       "                'name': 'Kate'}],\n",
       "              'id': 6,\n",
       "              'name': 'Hicks'},\n",
       "             {'friends': [{'friends': [{'friends': [],\n",
       "                  'id': 9,\n",
       "                  'name': 'Klein'}],\n",
       "                'id': 8,\n",
       "                'name': 'Kate'}],\n",
       "              'id': 7,\n",
       "              'name': 'Devin'}],\n",
       "            'id': 5,\n",
       "            'name': 'Clive'}],\n",
       "          'id': 4,\n",
       "          'name': 'Thor'}],\n",
       "        'id': 3,\n",
       "        'name': 'Chi'}],\n",
       "      'id': 2,\n",
       "      'name': 'Sue'},\n",
       "     {'friends': [{'friends': [{'friends': [{'friends': [{'friends': [{'friends': [],\n",
       "                'id': 9,\n",
       "                'name': 'Klein'}],\n",
       "              'id': 8,\n",
       "              'name': 'Kate'}],\n",
       "            'id': 6,\n",
       "            'name': 'Hicks'},\n",
       "           {'friends': [{'friends': [{'friends': [],\n",
       "                'id': 9,\n",
       "                'name': 'Klein'}],\n",
       "              'id': 8,\n",
       "              'name': 'Kate'}],\n",
       "            'id': 7,\n",
       "            'name': 'Devin'}],\n",
       "          'id': 5,\n",
       "          'name': 'Clive'}],\n",
       "        'id': 4,\n",
       "        'name': 'Thor'}],\n",
       "      'id': 3,\n",
       "      'name': 'Chi'}],\n",
       "    'id': 1,\n",
       "    'name': 'Dunn'},\n",
       "   {'friends': [{'friends': [{'friends': [{'friends': [{'friends': [{'friends': [{'friends': [],\n",
       "                'id': 9,\n",
       "                'name': 'Klein'}],\n",
       "              'id': 8,\n",
       "              'name': 'Kate'}],\n",
       "            'id': 6,\n",
       "            'name': 'Hicks'},\n",
       "           {'friends': [{'friends': [{'friends': [],\n",
       "                'id': 9,\n",
       "                'name': 'Klein'}],\n",
       "              'id': 8,\n",
       "              'name': 'Kate'}],\n",
       "            'id': 7,\n",
       "            'name': 'Devin'}],\n",
       "          'id': 5,\n",
       "          'name': 'Clive'}],\n",
       "        'id': 4,\n",
       "        'name': 'Thor'}],\n",
       "      'id': 3,\n",
       "      'name': 'Chi'}],\n",
       "    'id': 2,\n",
       "    'name': 'Sue'}],\n",
       "  'id': 0,\n",
       "  'name': 'Hero'},\n",
       " {'friends': [{'friends': [{'friends': [{'friends': [{'friends': [{'friends': [{'friends': [{'friends': [],\n",
       "                'id': 9,\n",
       "                'name': 'Klein'}],\n",
       "              'id': 8,\n",
       "              'name': 'Kate'}],\n",
       "            'id': 6,\n",
       "            'name': 'Hicks'},\n",
       "           {'friends': [{'friends': [{'friends': [],\n",
       "                'id': 9,\n",
       "                'name': 'Klein'}],\n",
       "              'id': 8,\n",
       "              'name': 'Kate'}],\n",
       "            'id': 7,\n",
       "            'name': 'Devin'}],\n",
       "          'id': 5,\n",
       "          'name': 'Clive'}],\n",
       "        'id': 4,\n",
       "        'name': 'Thor'}],\n",
       "      'id': 3,\n",
       "      'name': 'Chi'}],\n",
       "    'id': 2,\n",
       "    'name': 'Sue'},\n",
       "   {'friends': [{'friends': [{'friends': [{'friends': [{'friends': [{'friends': [],\n",
       "              'id': 9,\n",
       "              'name': 'Klein'}],\n",
       "            'id': 8,\n",
       "            'name': 'Kate'}],\n",
       "          'id': 6,\n",
       "          'name': 'Hicks'},\n",
       "         {'friends': [{'friends': [{'friends': [], 'id': 9, 'name': 'Klein'}],\n",
       "            'id': 8,\n",
       "            'name': 'Kate'}],\n",
       "          'id': 7,\n",
       "          'name': 'Devin'}],\n",
       "        'id': 5,\n",
       "        'name': 'Clive'}],\n",
       "      'id': 4,\n",
       "      'name': 'Thor'}],\n",
       "    'id': 3,\n",
       "    'name': 'Chi'}],\n",
       "  'id': 1,\n",
       "  'name': 'Dunn'},\n",
       " {'friends': [{'friends': [{'friends': [{'friends': [{'friends': [{'friends': [{'friends': [],\n",
       "              'id': 9,\n",
       "              'name': 'Klein'}],\n",
       "            'id': 8,\n",
       "            'name': 'Kate'}],\n",
       "          'id': 6,\n",
       "          'name': 'Hicks'},\n",
       "         {'friends': [{'friends': [{'friends': [], 'id': 9, 'name': 'Klein'}],\n",
       "            'id': 8,\n",
       "            'name': 'Kate'}],\n",
       "          'id': 7,\n",
       "          'name': 'Devin'}],\n",
       "        'id': 5,\n",
       "        'name': 'Clive'}],\n",
       "      'id': 4,\n",
       "      'name': 'Thor'}],\n",
       "    'id': 3,\n",
       "    'name': 'Chi'}],\n",
       "  'id': 2,\n",
       "  'name': 'Sue'},\n",
       " {'friends': [{'friends': [{'friends': [{'friends': [{'friends': [{'friends': [],\n",
       "            'id': 9,\n",
       "            'name': 'Klein'}],\n",
       "          'id': 8,\n",
       "          'name': 'Kate'}],\n",
       "        'id': 6,\n",
       "        'name': 'Hicks'},\n",
       "       {'friends': [{'friends': [{'friends': [], 'id': 9, 'name': 'Klein'}],\n",
       "          'id': 8,\n",
       "          'name': 'Kate'}],\n",
       "        'id': 7,\n",
       "        'name': 'Devin'}],\n",
       "      'id': 5,\n",
       "      'name': 'Clive'}],\n",
       "    'id': 4,\n",
       "    'name': 'Thor'}],\n",
       "  'id': 3,\n",
       "  'name': 'Chi'},\n",
       " {'friends': [{'friends': [{'friends': [{'friends': [{'friends': [],\n",
       "          'id': 9,\n",
       "          'name': 'Klein'}],\n",
       "        'id': 8,\n",
       "        'name': 'Kate'}],\n",
       "      'id': 6,\n",
       "      'name': 'Hicks'},\n",
       "     {'friends': [{'friends': [{'friends': [], 'id': 9, 'name': 'Klein'}],\n",
       "        'id': 8,\n",
       "        'name': 'Kate'}],\n",
       "      'id': 7,\n",
       "      'name': 'Devin'}],\n",
       "    'id': 5,\n",
       "    'name': 'Clive'}],\n",
       "  'id': 4,\n",
       "  'name': 'Thor'},\n",
       " {'friends': [{'friends': [{'friends': [{'friends': [],\n",
       "        'id': 9,\n",
       "        'name': 'Klein'}],\n",
       "      'id': 8,\n",
       "      'name': 'Kate'}],\n",
       "    'id': 6,\n",
       "    'name': 'Hicks'},\n",
       "   {'friends': [{'friends': [{'friends': [], 'id': 9, 'name': 'Klein'}],\n",
       "      'id': 8,\n",
       "      'name': 'Kate'}],\n",
       "    'id': 7,\n",
       "    'name': 'Devin'}],\n",
       "  'id': 5,\n",
       "  'name': 'Clive'},\n",
       " {'friends': [{'friends': [{'friends': [], 'id': 9, 'name': 'Klein'}],\n",
       "    'id': 8,\n",
       "    'name': 'Kate'}],\n",
       "  'id': 6,\n",
       "  'name': 'Hicks'},\n",
       " {'friends': [{'friends': [{'friends': [], 'id': 9, 'name': 'Klein'}],\n",
       "    'id': 8,\n",
       "    'name': 'Kate'}],\n",
       "  'id': 7,\n",
       "  'name': 'Devin'},\n",
       " {'friends': [{'friends': [], 'id': 9, 'name': 'Klein'}],\n",
       "  'id': 8,\n",
       "  'name': 'Kate'},\n",
       " {'friends': [], 'id': 9, 'name': 'Klein'}]"
      ]
     },
     "execution_count": 8,
     "metadata": {},
     "output_type": "execute_result"
    }
   ],
   "source": [
    "users"
   ]
  },
  {
   "cell_type": "code",
   "execution_count": 9,
   "metadata": {},
   "outputs": [],
   "source": [
    "from collections import defaultdict"
   ]
  },
  {
   "cell_type": "code",
   "execution_count": 10,
   "metadata": {},
   "outputs": [],
   "source": [
    "interests = [\n",
    "        (0, \"Hadoop\"), (0, \"Big Data\"), (0, \"HBase\"), (0, \"Java\"),\n",
    "        (0, \"Spark\"), (0, \"Storm\"), (0, \"Cassandra\"),\n",
    "        (1, \"NoSQL\"), (1, \"MongoDB\"), (1, \"Cassandra\"), (1, \"HBase\"),\n",
    "        (1, \"Postgres\"), (2, \"Python\"), (2, \"scikit-learn\"), (2, \"scipy\"),\n",
    "        (2, \"numpy\"), (2, \"statsmodels\"), (2, \"pandas\"), (3, \"R\"), (3, \"Python\"),\n",
    "        (3, \"statistics\"), (3, \"regression\"), (3, \"probability\"),\n",
    "        (4, \"machine learning\"), (4, \"regression\"), (4, \"decision trees\"),\n",
    "        (4, \"libsvm\"), (5, \"Python\"), (5, \"R\"), (5, \"Java\"), (5, \"C++\"),\n",
    "        (5, \"Haskell\"), (5, \"programming languages\"), (6, \"statistics\"),\n",
    "        (6, \"probability\"), (6, \"mathematics\"), (6, \"theory\"),\n",
    "        (7, \"machine learning\"), (7, \"scikit-learn\"), (7, \"Mahout\"),\n",
    "        (7, \"neural networks\"), (8, \"neural networks\"), (8, \"deep learning\"),\n",
    "        (8, \"Big Data\"), (8, \"artificial intelligence\"), (9, \"Hadoop\"),\n",
    "        (9, \"Java\"), (9, \"MapReduce\"), (9, \"Big Data\")\n",
    "]\n"
   ]
  },
  {
   "cell_type": "code",
   "execution_count": 12,
   "metadata": {},
   "outputs": [],
   "source": [
    "user_ids_by_interest = defaultdict(list)"
   ]
  },
  {
   "cell_type": "code",
   "execution_count": 13,
   "metadata": {},
   "outputs": [],
   "source": [
    "for user_id, interest in interests:\n",
    "    user_ids_by_interest[interest].append(user_id)"
   ]
  },
  {
   "cell_type": "code",
   "execution_count": 14,
   "metadata": {},
   "outputs": [
    {
     "data": {
      "text/plain": [
       "defaultdict(list,\n",
       "            {'Big Data': [0, 8, 9],\n",
       "             'C++': [5],\n",
       "             'Cassandra': [0, 1],\n",
       "             'HBase': [0, 1],\n",
       "             'Hadoop': [0, 9],\n",
       "             'Haskell': [5],\n",
       "             'Java': [0, 5, 9],\n",
       "             'Mahout': [7],\n",
       "             'MapReduce': [9],\n",
       "             'MongoDB': [1],\n",
       "             'NoSQL': [1],\n",
       "             'Postgres': [1],\n",
       "             'Python': [2, 3, 5],\n",
       "             'R': [3, 5],\n",
       "             'Spark': [0],\n",
       "             'Storm': [0],\n",
       "             'artificial intelligence': [8],\n",
       "             'decision trees': [4],\n",
       "             'deep learning': [8],\n",
       "             'libsvm': [4],\n",
       "             'machine learning': [4, 7],\n",
       "             'mathematics': [6],\n",
       "             'neural networks': [7, 8],\n",
       "             'numpy': [2],\n",
       "             'pandas': [2],\n",
       "             'probability': [3, 6],\n",
       "             'programming languages': [5],\n",
       "             'regression': [3, 4],\n",
       "             'scikit-learn': [2, 7],\n",
       "             'scipy': [2],\n",
       "             'statistics': [3, 6],\n",
       "             'statsmodels': [2],\n",
       "             'theory': [6]})"
      ]
     },
     "execution_count": 14,
     "metadata": {},
     "output_type": "execute_result"
    }
   ],
   "source": [
    "user_ids_by_interest"
   ]
  },
  {
   "cell_type": "code",
   "execution_count": 15,
   "metadata": {},
   "outputs": [],
   "source": [
    "salaries_and_tenures = [(83000, 8.7), (88000, 8.1),\n",
    "                            (48000, 0.7), (76000, 6),\n",
    "                            (69000, 6.5), (76000, 7.5),\n",
    "                            (60000, 2.5), (83000, 10),\n",
    "                            (48000, 1.9), (63000, 4.2)]"
   ]
  },
  {
   "cell_type": "code",
   "execution_count": 16,
   "metadata": {},
   "outputs": [
    {
     "data": {
      "text/plain": [
       "[(83000, 8.7),\n",
       " (88000, 8.1),\n",
       " (48000, 0.7),\n",
       " (76000, 6),\n",
       " (69000, 6.5),\n",
       " (76000, 7.5),\n",
       " (60000, 2.5),\n",
       " (83000, 10),\n",
       " (48000, 1.9),\n",
       " (63000, 4.2)]"
      ]
     },
     "execution_count": 16,
     "metadata": {},
     "output_type": "execute_result"
    }
   ],
   "source": [
    "salaries_and_tenures"
   ]
  },
  {
   "cell_type": "code",
   "execution_count": 18,
   "metadata": {},
   "outputs": [],
   "source": [
    "import matplotlib.pyplot as pp\n",
    "import pandas as pd\n",
    "%matplotlib inline\n",
    "import seaborn as sns"
   ]
  },
  {
   "cell_type": "code",
   "execution_count": 19,
   "metadata": {},
   "outputs": [],
   "source": [
    "salaries_and_tenures = pd.DataFrame(salaries_and_tenures)"
   ]
  },
  {
   "cell_type": "code",
   "execution_count": 21,
   "metadata": {},
   "outputs": [],
   "source": [
    "salaries_and_tenures.columns = ['Salaries','Tenures']"
   ]
  },
  {
   "cell_type": "code",
   "execution_count": 22,
   "metadata": {},
   "outputs": [
    {
     "data": {
      "text/html": [
       "<div>\n",
       "<table border=\"1\" class=\"dataframe\">\n",
       "  <thead>\n",
       "    <tr style=\"text-align: right;\">\n",
       "      <th></th>\n",
       "      <th>Salaries</th>\n",
       "      <th>Tenures</th>\n",
       "    </tr>\n",
       "  </thead>\n",
       "  <tbody>\n",
       "    <tr>\n",
       "      <th>0</th>\n",
       "      <td>83000</td>\n",
       "      <td>8.7</td>\n",
       "    </tr>\n",
       "    <tr>\n",
       "      <th>1</th>\n",
       "      <td>88000</td>\n",
       "      <td>8.1</td>\n",
       "    </tr>\n",
       "    <tr>\n",
       "      <th>2</th>\n",
       "      <td>48000</td>\n",
       "      <td>0.7</td>\n",
       "    </tr>\n",
       "    <tr>\n",
       "      <th>3</th>\n",
       "      <td>76000</td>\n",
       "      <td>6.0</td>\n",
       "    </tr>\n",
       "    <tr>\n",
       "      <th>4</th>\n",
       "      <td>69000</td>\n",
       "      <td>6.5</td>\n",
       "    </tr>\n",
       "  </tbody>\n",
       "</table>\n",
       "</div>"
      ],
      "text/plain": [
       "   Salaries  Tenures\n",
       "0     83000      8.7\n",
       "1     88000      8.1\n",
       "2     48000      0.7\n",
       "3     76000      6.0\n",
       "4     69000      6.5"
      ]
     },
     "execution_count": 22,
     "metadata": {},
     "output_type": "execute_result"
    }
   ],
   "source": [
    "salaries_and_tenures.head()"
   ]
  },
  {
   "cell_type": "code",
   "execution_count": 29,
   "metadata": {},
   "outputs": [
    {
     "data": {
      "text/plain": [
       "<matplotlib.text.Text at 0x10f72f1d0>"
      ]
     },
     "execution_count": 29,
     "metadata": {},
     "output_type": "execute_result"
    },
    {
     "data": {
      "image/png": "[encoded data removed]",
      "text/plain": [
       "<matplotlib.figure.Figure at 0x10f9e5c90>"
      ]
     },
     "metadata": {},
     "output_type": "display_data"
    }
   ],
   "source": [
    "pp.plot(salaries_and_tenures['Tenures'],salaries_and_tenures['Salaries'],'ro')\n",
    "pp.ylabel('Salary')\n",
    "pp.xlabel('Years of Experience')"
   ]
  },
  {
   "cell_type": "code",
   "execution_count": 30,
   "metadata": {},
   "outputs": [
    {
     "data": {
      "image/png": "[encoded data removed]",
      "text/plain": [
       "<matplotlib.figure.Figure at 0x10fa6b3d0>"
      ]
     },
     "metadata": {},
     "output_type": "display_data"
    }
   ],
   "source": [
    "years = [1950, 1960, 1970, 1980, 1990, 2000, 2010]\n",
    "gdp = [300.2, 543.3, 1075.9, 2862.5, 5979.6, 10289.7, 14958.3] # create a line chart, years on x-axis, gdp on y-axis\n",
    "pp.plot(years, gdp, color='green', marker='o', linestyle='solid') # add a title\n",
    "pp.title(\"Nominal GDP\")\n",
    "    # add a label to the y-axis\n",
    "pp.ylabel(\"Billions of $\")\n",
    "pp.show()"
   ]
  },
  {
   "cell_type": "code",
   "execution_count": 38,
   "metadata": {},
   "outputs": [],
   "source": [
    "import random\n",
    "def random_kid():\n",
    "    return random.choice([\"boy\", \"girl\"])\n",
    "\n",
    "both_girls = 0\n",
    "older_girl = 0\n",
    "either_girl = 0\n",
    "random.seed(0)\n",
    "for i in range(10000):\n",
    "    younger = random_kid()\n",
    "    older = random_kid()\n",
    "    if older == \"girl\":\n",
    "        older_girl += 1\n",
    "    if older == \"girl\" and younger == \"girl\":\n",
    "        both_girls += 1\n",
    "    if older == \"girl\" or younger == \"girl\":\n",
    "        either_girl += 1"
   ]
  },
  {
   "cell_type": "code",
   "execution_count": 39,
   "metadata": {},
   "outputs": [
    {
     "name": "stdout",
     "output_type": "stream",
     "text": [
      "P(both | older): 0\n",
      "P(both | either):  0\n"
     ]
    }
   ],
   "source": [
    "print \"P(both | older):\", both_girls / older_girl # 0.514 ~ 1/2\n",
    "print \"P(both | either): \", both_girls / either_girl"
   ]
  },
  {
   "cell_type": "code",
   "execution_count": 40,
   "metadata": {},
   "outputs": [],
   "source": [
    "cities = [(-86.75,33.5666666666667,'Python'),(-88.25,30.6833333333333,'Python'),(-112.016666666667,33.4333333333333,'Java'),(-110.933333333333,32.1166666666667,'Java'),(-92.2333333333333,34.7333333333333,'R'),(-121.95,37.7,'R'),(-118.15,33.8166666666667,'Python'),(-118.233333333333,34.05,'Java'),(-122.316666666667,37.8166666666667,'R'),(-117.6,34.05,'Python'),(-116.533333333333,33.8166666666667,'Python'),(-121.5,38.5166666666667,'R'),(-117.166666666667,32.7333333333333,'R'),(-122.383333333333,37.6166666666667,'R'),(-121.933333333333,37.3666666666667,'R'),(-122.016666666667,36.9833333333333,'Python'),(-104.716666666667,38.8166666666667,'Python'),(-104.866666666667,39.75,'Python'),(-72.65,41.7333333333333,'R'),(-75.6,39.6666666666667,'Python'),(-77.0333333333333,38.85,'Python'),(-80.2666666666667,25.8,'Java'),(-81.3833333333333,28.55,'Java'),(-82.5333333333333,27.9666666666667,'Java'),(-84.4333333333333,33.65,'Python'),(-116.216666666667,43.5666666666667,'Python'),(-87.75,41.7833333333333,'Java'),(-86.2833333333333,39.7333333333333,'Java'),(-93.65,41.5333333333333,'Java'),(-97.4166666666667,37.65,'Java'),(-85.7333333333333,38.1833333333333,'Python'),(-90.25,29.9833333333333,'Java'),(-70.3166666666667,43.65,'R'),(-76.6666666666667,39.1833333333333,'R'),(-71.0333333333333,42.3666666666667,'R'),(-72.5333333333333,42.2,'R'),(-83.0166666666667,42.4166666666667,'Python'),(-84.6,42.7833333333333,'Python'),(-93.2166666666667,44.8833333333333,'Python'),(-90.0833333333333,32.3166666666667,'Java'),(-94.5833333333333,39.1166666666667,'Java'),(-90.3833333333333,38.75,'Python'),(-108.533333333333,45.8,'Python'),(-95.9,41.3,'Python'),(-115.166666666667,36.0833333333333,'Java'),(-71.4333333333333,42.9333333333333,'R'),(-74.1666666666667,40.7,'R'),(-106.616666666667,35.05,'Python'),(-78.7333333333333,42.9333333333333,'R'),(-73.9666666666667,40.7833333333333,'R'),(-80.9333333333333,35.2166666666667,'Python'),(-78.7833333333333,35.8666666666667,'Python'),(-100.75,46.7666666666667,'Java'),(-84.5166666666667,39.15,'Java'),(-81.85,41.4,'Java'),(-82.8833333333333,40,'Java'),(-97.6,35.4,'Python'),(-122.666666666667,45.5333333333333,'Python'),(-75.25,39.8833333333333,'Python'),(-80.2166666666667,40.5,'Python'),(-71.4333333333333,41.7333333333333,'R'),(-81.1166666666667,33.95,'R'),(-96.7333333333333,43.5666666666667,'Python'),(-90,35.05,'R'),(-86.6833333333333,36.1166666666667,'R'),(-97.7,30.3,'Python'),(-96.85,32.85,'Java'),(-95.35,29.9666666666667,'Java'),(-98.4666666666667,29.5333333333333,'Java'),(-111.966666666667,40.7666666666667,'Python'),(-73.15,44.4666666666667,'R'),(-77.3333333333333,37.5,'Python'),(-122.3,47.5333333333333,'Python'),(-89.3333333333333,43.1333333333333,'R'),(-104.816666666667,41.15,'Java')]\n",
    "cities = [([longitude, latitude], language) for longitude, latitude, language in cities]"
   ]
  },
  {
   "cell_type": "code",
   "execution_count": 41,
   "metadata": {},
   "outputs": [],
   "source": [
    "# key is language, value is pair (longitudes, latitudes)\n",
    "plots = { \"Java\" : ([], []), \"Python\" : ([], []), \"R\" : ([], []) }\n",
    "# we want each language to have a different marker and color\n",
    "markers = { \"Java\" : \"o\", \"Python\" : \"s\", \"R\" : \"^\" }\n",
    "colors  = { \"Java\" : \"r\", \"Python\" : \"b\", \"R\" : \"g\" }"
   ]
  },
  {
   "cell_type": "code",
   "execution_count": 42,
   "metadata": {},
   "outputs": [],
   "source": [
    "for (longitude,latitude) in cities:\n",
    "    plots[language][0].append(longitude)\n",
    "    plots[language][1].append(latitude)"
   ]
  },
  {
   "cell_type": "code",
   "execution_count": null,
   "metadata": {},
   "outputs": [],
   "source": [
    "for language, (x,y) in plots.iteritems():\n",
    "    "
   ]
  }
 ],
 "metadata": {
  "kernelspec": {
   "display_name": "Python [python2]",
   "language": "python",
   "name": "Python [python2]"
  },
  "language_info": {
   "codemirror_mode": {
    "name": "ipython",
    "version": 2
   },
   "file_extension": ".py",
   "mimetype": "text/x-python",
   "name": "python",
   "nbconvert_exporter": "python",
   "pygments_lexer": "ipython2",
   "version": "2.7.13"
  }
 },
 "nbformat": 4,
 "nbformat_minor": 2
}
